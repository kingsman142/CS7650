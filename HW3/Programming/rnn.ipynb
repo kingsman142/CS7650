{
  "nbformat": 4,
  "nbformat_minor": 0,
  "metadata": {
    "anaconda-cloud": {},
    "kernelspec": {
      "name": "python3",
      "display_name": "Python 3"
    },
    "language_info": {
      "codemirror_mode": {
        "name": "ipython",
        "version": 3
      },
      "file_extension": ".py",
      "mimetype": "text/x-python",
      "name": "python",
      "nbconvert_exporter": "python",
      "pygments_lexer": "ipython3",
      "version": "3.6.4"
    },
    "colab": {
      "name": "rnn.ipynb",
      "provenance": [],
      "toc_visible": true
    },
    "accelerator": "GPU"
  },
  "cells": [
    {
      "cell_type": "markdown",
      "metadata": {
        "id": "A7H2Cy7qRD5c",
        "colab_type": "text"
      },
      "source": [
        "\n",
        "\n",
        "# Generating Shakespeare with a Character-Level RNN\n"
      ]
    },
    {
      "cell_type": "markdown",
      "metadata": {
        "id": "OkEy3p3XRD5e",
        "colab_type": "text"
      },
      "source": [
        "In this part, we'll turn from traditional n-gram based language models to a more advanced form of language modeling using a Recurrent Neural Network. Specifically, we'll be setting up a character-level recurrent neural network (char-rnn) for short.\n",
        "\n",
        "Andrej Karpathy, a researcher at OpenAI, has written an excellent blog post about using RNNs for language models, which you should read before beginning this assignment.  The title of his blog post is [The Unreasonable Effectiveness of Recurrent Neural Networks](http://karpathy.github.io/2015/05/21/rnn-effectiveness/).\n",
        "\n",
        "Karpathy shows how char-rnns can be used to generate texts for several fun domains:\n",
        "* Shakespeare plays\n",
        "* Essays about economics\n",
        "* LaTeX documents\n",
        "* Linux source code\n",
        "* Baby names\n",
        "\n",
        "<div class=\"alert alert-info\" markdown=\"1\">\n",
        "Here are the materials that you should download for this assignment:\n",
        "\n",
        "* [training data and devlopment data for generation](https://www.cc.gatech.edu/classes/AY2020/cs7650_spring/hw3/lm/data.zip).\n",
        "</div>\n",
        "\n",
        "# Recommended Reading\n",
        "\n",
        "You should install PyTorch, know Python, and understand Tensors:\n",
        "\n",
        "* http://pytorch.org/ For installation instructions\n",
        "* [Deep Learning with PyTorch: A 60-minute Blitz](https://github.com/pytorch/tutorials/blob/master/Deep%20Learning%20with%20PyTorch.ipynb) to get started with PyTorch in general\n",
        "* [jcjohnson's PyTorch examples](https://github.com/jcjohnson/pytorch-examples) for an in depth overview\n",
        "* [Introduction to PyTorch for former Torchies](https://github.com/pytorch/tutorials/blob/master/Introduction%20to%20PyTorch%20for%20former%20Torchies.ipynb) if you are former Lua Torch user\n",
        "\n",
        "It would also be useful to know about RNNs and how they work:\n",
        "\n",
        "* [The Unreasonable Effectiveness of Recurrent Neural Networks](http://karpathy.github.io/2015/05/21/rnn-effectiveness/) shows a bunch of real life examples\n",
        "* [Understanding LSTM Networks](http://colah.github.io/posts/2015-08-Understanding-LSTMs/) is about LSTMs specifically but also informative about RNNs in general\n",
        "\n",
        "Also see these related tutorials from the series:\n",
        "\n",
        "* [Classifying Names with a Character-Level RNN](https://github.com/spro/practical-pytorch/blob/master/char-rnn-classification/char-rnn-classification.ipynb) uses an RNN for classification\n",
        "* [Generating Names with a Conditional Character-Level RNN](https://github.com/spro/practical-pytorch/blob/master/conditional-char-rnn/conditional-char-rnn.ipynb) builds on this model to add a category as input\n",
        "\n",
        "## You can also set up Pytorch in Google Colab\n",
        "\n",
        "Pytorch is one of the most popular deep learning frameworks in both industry and academia, and learning its use will be invaluable should you choose a career in deep learning. \n",
        "\n",
        "### Setup\n",
        "#### Using Google Colab (recommended)\n",
        "1. Upload this notebook on [Colab](https://colab.research.google.com/notebooks/welcome.ipynb).\n",
        "2. Set hardware accelerator to ```GPU``` under ```notebook settings``` in the ```Edit``` menu.\n",
        "3. Run the first cell to  set up  the environment.\n",
        "\n",
        "### Note\n",
        "Please look at the FAQ section before you start working.\n"
      ]
    },
    {
      "cell_type": "markdown",
      "metadata": {
        "id": "3RPlFJ_ZRD5g",
        "colab_type": "text"
      },
      "source": [
        "# Prepare data\n",
        "\n",
        "The file we are using is a plain text file. We turn any potential unicode characters into plain ASCII by using the `unidecode` package (which you can install via `pip` or `conda`)."
      ]
    },
    {
      "cell_type": "code",
      "metadata": {
        "id": "1GL-DEQ3RD5h",
        "colab_type": "code",
        "outputId": "9f3e12cd-130e-4bf4-f56c-15a3dd9ad477",
        "colab": {
          "base_uri": "https://localhost:8080/",
          "height": 51
        }
      },
      "source": [
        "!pip3 install unidecode\n",
        "\n",
        "import unidecode\n",
        "import string\n",
        "import random\n",
        "import re\n",
        "\n",
        "all_characters = string.printable\n",
        "n_characters = len(all_characters)\n",
        "\n",
        "file = unidecode.unidecode(open('data/shakespeare_input.txt').read())\n",
        "file_len = len(file)\n",
        "print('file_len =', file_len)"
      ],
      "execution_count": 21,
      "outputs": [
        {
          "output_type": "stream",
          "text": [
            "Requirement already satisfied: unidecode in /usr/local/lib/python3.6/dist-packages (1.1.1)\n",
            "file_len = 4573338\n"
          ],
          "name": "stdout"
        }
      ]
    },
    {
      "cell_type": "markdown",
      "metadata": {
        "id": "_vYfS4jrRD5k",
        "colab_type": "text"
      },
      "source": [
        "To make inputs out of this big string of data, we will be splitting it into chunks."
      ]
    },
    {
      "cell_type": "code",
      "metadata": {
        "id": "vIy42uWxRD5l",
        "colab_type": "code",
        "outputId": "eb6dc367-6e7b-471c-854f-d4afe5fcde36",
        "colab": {
          "base_uri": "https://localhost:8080/",
          "height": 85
        }
      },
      "source": [
        "chunk_len = 200\n",
        "\n",
        "def random_chunk():\n",
        "    start_index = random.randint(0, file_len - chunk_len)\n",
        "    end_index = start_index + chunk_len + 1\n",
        "    return file[start_index:end_index]\n",
        "\n",
        "print(random_chunk())"
      ],
      "execution_count": 22,
      "outputs": [
        {
          "output_type": "stream",
          "text": [
            "nick-name God's creatures, and make your wantonness\n",
            "your ignorance. Go to, I'll no more on't; it hath\n",
            "made me mad. I say, we will have no more marriages:\n",
            "those that are married already, all but one, sh\n"
          ],
          "name": "stdout"
        }
      ]
    },
    {
      "cell_type": "markdown",
      "metadata": {
        "id": "sWBZPqRKRD5o",
        "colab_type": "text"
      },
      "source": [
        "# Build the Model\n",
        "\n",
        "This model will take as input the character for step $t_{-1}$ and is expected to output the next character $t$. There are three layers - one linear layer that encodes the input character into an internal state, one GRU layer (which may itself have multiple layers) that operates on that internal state and a hidden state, and a decoder layer that outputs the probability distribution. You need to finish the forward method. (Refer to [Pytorch GRU Documentation](https://pytorch.org/docs/stable/nn.html#gru))"
      ]
    },
    {
      "cell_type": "code",
      "metadata": {
        "id": "s_n9hLacRD5p",
        "colab_type": "code",
        "colab": {}
      },
      "source": [
        "import torch\n",
        "import torch.nn as nn\n",
        "\n",
        "device = torch.device(\"cuda\" if torch.cuda.is_available() else \"cpu\")\n",
        "\n",
        "class RNN(nn.Module):\n",
        "    def __init__(self, input_size, hidden_size, output_size, n_layers=1):\n",
        "        super(RNN, self).__init__()\n",
        "        self.input_size = input_size\n",
        "        self.hidden_size = hidden_size\n",
        "        self.output_size = output_size\n",
        "        self.n_layers = n_layers\n",
        "        \n",
        "        self.encoder = nn.Embedding(input_size, hidden_size)\n",
        "        self.gru = nn.GRU(hidden_size, hidden_size, n_layers)\n",
        "        self.decoder = nn.Linear(hidden_size, output_size)\n",
        "    \n",
        "    def forward(self, input, hidden):\n",
        "        #Input input: torch Tensor of shape (1,)\n",
        "        #hidden: torch Tensor of shape (self.n_layers, 1, self.hidden_size)\n",
        "        #Return output: torch Tensor of shape (1, self.output_size) \n",
        "        #and hidden: torch Tensor of shape (self.n_layers, 1, self.hidden_size)\n",
        "        encoded_input = self.encoder(input.squeeze()) # output is N x H where N = length of input\n",
        "        gru_output, gru_hidden = self.gru(encoded_input[None, None, :], hidden)\n",
        "        final_output = self.decoder(gru_output.squeeze()[None, :])\n",
        "        return final_output, gru_hidden\n",
        "\n",
        "    def init_hidden(self):\n",
        "        return torch.zeros(self.n_layers, 1, self.hidden_size).to(device)"
      ],
      "execution_count": 0,
      "outputs": []
    },
    {
      "cell_type": "markdown",
      "metadata": {
        "id": "h_Bb3nbERD5r",
        "colab_type": "text"
      },
      "source": [
        "# Inputs and Targets"
      ]
    },
    {
      "cell_type": "markdown",
      "metadata": {
        "id": "F679sm1fRD5s",
        "colab_type": "text"
      },
      "source": [
        "Each chunk will be turned into a tensor, specifically a `LongTensor` (used for integer values), by looping through the characters of the string and looking up the index of each character in `all_characters`."
      ]
    },
    {
      "cell_type": "code",
      "metadata": {
        "id": "RhJ9cMCjRD5t",
        "colab_type": "code",
        "outputId": "ec13568e-5267-4d60-a1d6-6336c8e16502",
        "colab": {
          "base_uri": "https://localhost:8080/",
          "height": 34
        }
      },
      "source": [
        "# Turn string into list of longs\n",
        "def char_tensor(string):\n",
        "    tensor = torch.zeros(len(string)).long().to(device)\n",
        "    for c in range(len(string)):\n",
        "        tensor[c] = all_characters.index(string[c])\n",
        "    return tensor\n",
        "\n",
        "print(char_tensor('abcDEF'))"
      ],
      "execution_count": 24,
      "outputs": [
        {
          "output_type": "stream",
          "text": [
            "tensor([10, 11, 12, 39, 40, 41], device='cuda:0')\n"
          ],
          "name": "stdout"
        }
      ]
    },
    {
      "cell_type": "markdown",
      "metadata": {
        "id": "2bBcw9OfRD5y",
        "colab_type": "text"
      },
      "source": [
        "Finally we can assemble a pair of input and target tensors for training, from a random chunk. The input will be all characters *up to the last*, and the target will be all characters *from the first*. So if our chunk is \"abc\" the input will correspond to \"ab\" while the target is \"bc\"."
      ]
    },
    {
      "cell_type": "code",
      "metadata": {
        "id": "7vbLrxCORD5z",
        "colab_type": "code",
        "colab": {}
      },
      "source": [
        "def random_training_set():    \n",
        "    chunk = random_chunk()\n",
        "    inp = char_tensor(chunk[:-1])\n",
        "    target = char_tensor(chunk[1:])\n",
        "    return inp, target"
      ],
      "execution_count": 0,
      "outputs": []
    },
    {
      "cell_type": "markdown",
      "metadata": {
        "id": "5HWxcwyyRD51",
        "colab_type": "text"
      },
      "source": [
        "# Evaluating\n",
        "\n",
        "To evaluate the network we will feed one character at a time, use the outputs of the network as a probability distribution for the next character, and repeat. To start generation we pass a priming string to start building up the hidden state, from which we then generate one character at a time."
      ]
    },
    {
      "cell_type": "code",
      "metadata": {
        "id": "TG4SWYKoRD52",
        "colab_type": "code",
        "colab": {}
      },
      "source": [
        "def evaluate(prime_str='A', predict_len=100, temperature=0.8):\n",
        "    hidden = decoder.init_hidden()\n",
        "    prime_input = char_tensor(prime_str)\n",
        "    predicted = prime_str\n",
        "\n",
        "    # Use priming string to \"build up\" hidden state\n",
        "    for p in range(len(prime_str) - 1):\n",
        "        _, hidden = decoder(prime_input[p], hidden)\n",
        "    inp = prime_input[-1]\n",
        "    \n",
        "    for p in range(predict_len):\n",
        "        output, hidden = decoder(inp, hidden)\n",
        "        \n",
        "        # Sample from the network as a multinomial distribution\n",
        "        output_dist = output.data.view(-1).div(temperature).exp()\n",
        "        top_i = torch.multinomial(output_dist, 1)[0]\n",
        "        \n",
        "        # Add predicted character to string and use as next input\n",
        "        predicted_char = all_characters[top_i]\n",
        "        predicted += predicted_char\n",
        "        inp = char_tensor(predicted_char)\n",
        "\n",
        "    return predicted"
      ],
      "execution_count": 0,
      "outputs": []
    },
    {
      "cell_type": "markdown",
      "metadata": {
        "id": "ahemf4MwRD55",
        "colab_type": "text"
      },
      "source": [
        "# Training"
      ]
    },
    {
      "cell_type": "markdown",
      "metadata": {
        "id": "wLRHhdxRRD55",
        "colab_type": "text"
      },
      "source": [
        "A helper to print the amount of time passed:"
      ]
    },
    {
      "cell_type": "code",
      "metadata": {
        "id": "fwgLa_tARD56",
        "colab_type": "code",
        "colab": {}
      },
      "source": [
        "import time, math\n",
        "\n",
        "def time_since(since):\n",
        "    s = time.time() - since\n",
        "    m = math.floor(s / 60)\n",
        "    s -= m * 60\n",
        "    return '%dm %ds' % (m, s)"
      ],
      "execution_count": 0,
      "outputs": []
    },
    {
      "cell_type": "markdown",
      "metadata": {
        "id": "dw_KBuoURD5-",
        "colab_type": "text"
      },
      "source": [
        "The main training function"
      ]
    },
    {
      "cell_type": "code",
      "metadata": {
        "id": "nMSwXPysRD5_",
        "colab_type": "code",
        "colab": {}
      },
      "source": [
        "def train(inp, target):\n",
        "    hidden = decoder.init_hidden()\n",
        "    decoder.zero_grad()\n",
        "    loss = 0\n",
        "\n",
        "    for c in range(chunk_len):\n",
        "        output, hidden = decoder(inp[c], hidden)\n",
        "        loss += criterion(output, target.unsqueeze(1)[c])\n",
        "\n",
        "    loss.backward()\n",
        "    decoder_optimizer.step()\n",
        "\n",
        "    return loss.item() / chunk_len"
      ],
      "execution_count": 0,
      "outputs": []
    },
    {
      "cell_type": "markdown",
      "metadata": {
        "id": "i46eUEGdRD6C",
        "colab_type": "text"
      },
      "source": [
        "Then we define the training parameters, instantiate the model, and start training:"
      ]
    },
    {
      "cell_type": "code",
      "metadata": {
        "scrolled": false,
        "id": "eywzFYboRD6D",
        "colab_type": "code",
        "outputId": "57ed1c9b-421a-40fe-aab4-32cdf050ef8f",
        "colab": {
          "base_uri": "https://localhost:8080/",
          "height": 1000
        }
      },
      "source": [
        "n_epochs = 2000\n",
        "print_every = 100\n",
        "plot_every = 10\n",
        "hidden_size = 100\n",
        "n_layers = 2\n",
        "lr = 0.001\n",
        "\n",
        "decoder = RNN(n_characters, hidden_size, n_characters, n_layers).to(device)\n",
        "decoder_optimizer = torch.optim.Adam(decoder.parameters(), lr=lr)\n",
        "criterion = nn.CrossEntropyLoss()\n",
        "\n",
        "start = time.time()\n",
        "all_losses = []\n",
        "loss_avg = 0\n",
        "\n",
        "for epoch in range(1, n_epochs + 1):\n",
        "    loss = train(*random_training_set())       \n",
        "    loss_avg += loss\n",
        "\n",
        "    if epoch % print_every == 0:\n",
        "        print('[%s (%d %d%%) %.4f]' % (time_since(start), epoch, epoch / n_epochs * 100, loss))\n",
        "        print(evaluate('Wh', 100), '\\n')\n",
        "\n",
        "    if epoch % plot_every == 0:\n",
        "        all_losses.append(loss_avg / plot_every)\n",
        "        loss_avg = 0"
      ],
      "execution_count": 29,
      "outputs": [
        {
          "output_type": "stream",
          "text": [
            "[0m 29s (100 5%) 2.8436]\n",
            "Whes aas oene in tgoo soy fmre\n",
            "mefokes t tho, tctleodl , hilo ros in see bnsmooen ot sopand ore twtm o \n",
            "\n",
            "[0m 57s (200 10%) 2.2974]\n",
            "Whe, bfin the the the merde I emir wele, hinre oseme\n",
            "Theabe, I the cant eread ther naratis thenpor he  \n",
            "\n",
            "[1m 25s (300 15%) 2.3449]\n",
            "Whe alitce hatun fare thate I I of be ive urto whes thou yore andent did hor there have, and be pore i \n",
            "\n",
            "[1m 53s (400 20%) 2.2563]\n",
            "Whe keto noud werssry cuvpove:\n",
            "Arsers a care welstkgrenser thour for unsek wir:\n",
            "F love in lome\n",
            "Thann t \n",
            "\n",
            "[2m 22s (500 25%) 2.3325]\n",
            "Wher and\n",
            "There mrall he fort the to reed's thour chand the mortramderress gior thes,\n",
            "Mour thas and\n",
            "Dor \n",
            "\n",
            "[2m 50s (600 30%) 1.8886]\n",
            "Whemess fappee carthes thy staster wing cay\n",
            "Dow fidus prarquen to noth of paaving thit sere emin trom, \n",
            "\n",
            "[3m 18s (700 35%) 2.0553]\n",
            "Whing portenvent in my nothingist'd thaket the firs\n",
            "I\n",
            "It broge\n",
            "I sent dour bath ruaed thou do shark,\n",
            "M \n",
            "\n",
            "[3m 46s (800 40%) 2.0163]\n",
            "Whis my that, sirtusst hat and masing wein your sor macek\n",
            "\n",
            "KI bes my caun my enfale endion fire\n",
            "Leat m \n",
            "\n",
            "[4m 15s (900 45%) 1.8881]\n",
            "Whan enther and a be decaine. I wonst frate man thou sort my not sincitiss\n",
            "so so her my denvisser soul \n",
            "\n",
            "[4m 44s (1000 50%) 1.9281]\n",
            "Whi's it hatito, hard the plound on the may the theot?\n",
            "\n",
            "HARMES:\n",
            "Pis most do come her and as he bathing \n",
            "\n",
            "[5m 14s (1100 55%) 1.7467]\n",
            "Whe with yould, go have do of the fid for.\n",
            "O, the to thigh, and thou not hour.\n",
            "\n",
            "ONCERLA:\n",
            "Thou'd I and  \n",
            "\n",
            "[5m 43s (1200 60%) 1.8573]\n",
            "Whing kecate as that thee my that hath lord, the mave dave\n",
            "At that get on their froud and them sied me \n",
            "\n",
            "[6m 13s (1300 65%) 2.0541]\n",
            "What eplence;\n",
            "But I the from this bake, a but me,\n",
            "The lout to beverentt thy seinck you, and but our wi \n",
            "\n",
            "[6m 42s (1400 70%) 2.1069]\n",
            "Whot stain have\n",
            "In the A soveronest lir a cracking here ow. I sin is rento, the strain, lime hath,\n",
            "Whi \n",
            "\n",
            "[7m 12s (1500 75%) 2.0402]\n",
            "Which one heast;\n",
            "There more the lead, my this canton.\n",
            "\n",
            "BUUNTICE:\n",
            "For this feasen know, where to lour a \n",
            "\n",
            "[7m 40s (1600 80%) 1.8431]\n",
            "Wheres mathess= one the hightly a comymand acales, and made.\n",
            "\n",
            "LORLES:\n",
            "But be, sive have in with there  \n",
            "\n",
            "[8m 8s (1700 85%) 1.8011]\n",
            "Whelfian the bettith.\n",
            "O arm your bleand heam-plong is there be father:\n",
            "I of me dueven\n",
            "fathing out that \n",
            "\n",
            "[8m 37s (1800 90%) 1.7798]\n",
            "Who this pread,\n",
            "That grasin he get in to make, to smake\n",
            "To should haster is come and thee gree to to w \n",
            "\n",
            "[9m 6s (1900 95%) 1.8283]\n",
            "Whar I fales much the reaiton liver,\n",
            "Would the liase discand bropest from and than out us in thee\n",
            "What \n",
            "\n",
            "[9m 35s (2000 100%) 1.7866]\n",
            "Whing the would worn of the forse fursienou.\n",
            "\n",
            "IHARIRES:\n",
            "I call have dettriptel'd as to steest made\n",
            "To  \n",
            "\n"
          ],
          "name": "stdout"
        }
      ]
    },
    {
      "cell_type": "markdown",
      "metadata": {
        "id": "1EDIMjzoRD6F",
        "colab_type": "text"
      },
      "source": [
        "# Plotting the Training Losses\n",
        "\n",
        "Plotting the historical loss from all_losses shows the network learning:"
      ]
    },
    {
      "cell_type": "code",
      "metadata": {
        "id": "EdYzu-4ORD6G",
        "colab_type": "code",
        "outputId": "c45e555e-fcb9-4f71-df7c-4fe0b7dbf1a2",
        "colab": {
          "base_uri": "https://localhost:8080/",
          "height": 282
        }
      },
      "source": [
        "import matplotlib.pyplot as plt\n",
        "import matplotlib.ticker as ticker\n",
        "%matplotlib inline\n",
        "\n",
        "plt.figure()\n",
        "plt.plot(all_losses)"
      ],
      "execution_count": 30,
      "outputs": [
        {
          "output_type": "execute_result",
          "data": {
            "text/plain": [
              "[<matplotlib.lines.Line2D at 0x7f1b503a1320>]"
            ]
          },
          "metadata": {
            "tags": []
          },
          "execution_count": 30
        },
        {
          "output_type": "display_data",
          "data": {
            "image/png": "[encoded data removed]",
            "text/plain": [
              "<Figure size 432x288 with 1 Axes>"
            ]
          },
          "metadata": {
            "tags": []
          }
        }
      ]
    },
    {
      "cell_type": "markdown",
      "metadata": {
        "id": "U_XVbiJeRD6I",
        "colab_type": "text"
      },
      "source": [
        "# Evaluating at different \"temperatures\"\n",
        "\n",
        "In the `evaluate` function above, every time a prediction is made the outputs are divided by the \"temperature\" argument passed. Using a higher number makes all actions more equally likely, and thus gives us \"more random\" outputs. Using a lower value (less than 1) makes high probabilities contribute more. As we turn the temperature towards zero we are choosing only the most likely outputs.\n",
        "\n",
        "We can see the effects of this by adjusting the `temperature` argument."
      ]
    },
    {
      "cell_type": "code",
      "metadata": {
        "id": "bIbF3LOnRD6J",
        "colab_type": "code",
        "outputId": "95baadf8-dbca-46df-ac8d-790ae5ef06a3",
        "colab": {
          "base_uri": "https://localhost:8080/",
          "height": 85
        }
      },
      "source": [
        "print(evaluate('Th', 200, temperature=0.8))"
      ],
      "execution_count": 31,
      "outputs": [
        {
          "output_type": "stream",
          "text": [
            "The feet true but litht, it of man repold, Rome this have is of knot inser swee!\n",
            "Well maD not we querst have chall an some;\n",
            "Thee did him, his sate with well, could for chack weep hears\n",
            "Have the sir prop\n"
          ],
          "name": "stdout"
        }
      ]
    },
    {
      "cell_type": "markdown",
      "metadata": {
        "id": "nreN46vIRD6M",
        "colab_type": "text"
      },
      "source": [
        "Lower temperatures are less varied, choosing only the more probable outputs:"
      ]
    },
    {
      "cell_type": "code",
      "metadata": {
        "id": "ewX7IwyBRD6N",
        "colab_type": "code",
        "outputId": "b6bafe73-1b50-4658-c758-ed16990b3a1b",
        "colab": {
          "base_uri": "https://localhost:8080/",
          "height": 187
        }
      },
      "source": [
        "print(evaluate('Th', 200, temperature=0.2))"
      ],
      "execution_count": 32,
      "outputs": [
        {
          "output_type": "stream",
          "text": [
            "The hath he speak he come.\n",
            "\n",
            "SARDONA:\n",
            "I have he be the best the grown and he be be and for the speak.\n",
            "\n",
            "PERDARIUS:\n",
            "What hath the come the come the come and hath the come.\n",
            "\n",
            "CROSANDO:\n",
            "I have the come the pr\n"
          ],
          "name": "stdout"
        }
      ]
    },
    {
      "cell_type": "markdown",
      "metadata": {
        "id": "9z32GJMFRD6P",
        "colab_type": "text"
      },
      "source": [
        "Higher temperatures more varied, choosing less probable outputs:"
      ]
    },
    {
      "cell_type": "code",
      "metadata": {
        "id": "z5pY9R2cRD6R",
        "colab_type": "code",
        "outputId": "12f25b85-af47-43b8-dae2-2920c14078fd",
        "colab": {
          "base_uri": "https://localhost:8080/",
          "height": 170
        }
      },
      "source": [
        "print(evaluate('Th', 200, temperature=1.4))"
      ],
      "execution_count": 33,
      "outputs": [
        {
          "output_type": "stream",
          "text": [
            "Th Hvass capo: I hisgdiod?\n",
            "\n",
            "ILON:\n",
            "US hat's usigre! cainT phejasure, wlicp.\n",
            "Io crothe.\n",
            "?o ou pordountlemourtios, nepict!s -veigko hy dagetBar.\n",
            "\n",
            "FAQETIONAF PORTK:\n",
            "Sowniec: is your prithenty; saywer-stror-\n"
          ],
          "name": "stdout"
        }
      ]
    },
    {
      "cell_type": "code",
      "metadata": {
        "id": "2VYT3SyYRD6T",
        "colab_type": "code",
        "outputId": "e76faa11-4302-4bea-c22d-f264e43bec98",
        "colab": {
          "base_uri": "https://localhost:8080/",
          "height": 34
        }
      },
      "source": [
        "import torch.nn.functional as F\n",
        "def perp(testfile):\n",
        "    inp = char_tensor(testfile[:-1])\n",
        "    target = char_tensor(testfile[1:])\n",
        "    test_len=len(testfile)\n",
        "    hidden = decoder.init_hidden()\n",
        "    decoder.zero_grad()\n",
        "    perplexity=torch.tensor(0.0)\n",
        "\n",
        "    for c in range(test_len-1):\n",
        "        output, hidden = decoder(inp[c], hidden)\n",
        "        perplexity -=F.log_softmax(output,dim=1)[0][target[c]]\n",
        "\n",
        "    return (perplexity/test_len).exp().item()\n",
        "\n",
        "testfile = unidecode.unidecode(open('data/shakespeare_sonnets.txt').read())\n",
        "print('Perplexity:',perp(testfile))"
      ],
      "execution_count": 34,
      "outputs": [
        {
          "output_type": "stream",
          "text": [
            "Perplexity: 6.873941898345947\n"
          ],
          "name": "stdout"
        }
      ]
    },
    {
      "cell_type": "markdown",
      "metadata": {
        "collapsed": true,
        "id": "v_Kc3LiYRD6X",
        "colab_type": "text"
      },
      "source": [
        "## FAQs\n",
        "\n",
        "#### I'm unfamiliar with PyTorch. How do I get started?\n",
        "If you are new to the paradigm of computational graphs and functional programming, please have a look at this [tutorial](https://hackernoon.com/linear-regression-in-x-minutes-using-pytorch-8eec49f6a0e2) before getting started.\n",
        "\n",
        "#### How do I speed up training?\n",
        "Send the model and the input, output tensors to the GPU using ```.to(device)```. Refer the [PyTorch docs](https://pytorch.org/docs/stable/notes/cuda.html) for further information.\n"
      ]
    },
    {
      "cell_type": "code",
      "metadata": {
        "id": "H6zpY2RjRD6Y",
        "colab_type": "code",
        "colab": {}
      },
      "source": [
        ""
      ],
      "execution_count": 0,
      "outputs": []
    }
  ]
}