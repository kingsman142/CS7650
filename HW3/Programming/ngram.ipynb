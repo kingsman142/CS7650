{
 "cells": [
  {
   "cell_type": "markdown",
   "metadata": {},
   "source": [
    "# Natural Language Processing - Assigment 2\n",
    "# N-gram Language Models\n",
    "\n",
    "In the textbook, language modeling was defined as the task of predicting the next word in a sequence given the previous words. In this assignment, we will focus on the related problem of predicting the next *character* or *word* in a sequence given the previous characters. \n",
    "\n",
    "The learning goals of this assignment are to: \n",
    "* Understand how to compute language model probabilities using maximum likelihood estimation.\n",
    "* Implement basic smoothing, back-off and interpolation.\n",
    "* Have fun using a language model to probabilistically generate texts.\n",
    "* Compare word-level langauage models and character-level language models\n",
    "\n",
    "<div class=\"alert alert-info\" markdown=\"1\">\n",
    "Here are the materials that you should download for this assignment:\n",
    "\n",
    "* [Skeleton python code](https://www.cc.gatech.edu/classes/AY2020/cs7650_spring/hw3/lm/skeleton.zip).\n",
    "\n",
    "* [training data for character-level and word-level langauge models](https://www.cc.gatech.edu/classes/AY2020/cs7650_spring/hw3/lm/shakespeare_input.zip).\n",
    "\n",
    "* [dev data for character-level and word-level langauge models](https://www.cc.gatech.edu/classes/AY2020/cs7650_spring/hw3/lm/shakespeare_sonnets.zip).\n",
    "\n",
    "* [training data for word-level langauge models](https://www.cc.gatech.edu/classes/AY2020/cs7650_spring/hw3/lm/train_e.zip).\n",
    "\n",
    "* [dev data for word-level langauge models](https://www.cc.gatech.edu/classes/AY2020/cs7650_spring/hw3/lm/val_e.zip).\n",
    "</div>\n"
   ]
  },
  {
   "cell_type": "markdown",
   "metadata": {},
   "source": [
    "# Character-level N-gram Language Models [20 pts]\n",
    "\n",
    "You should complete functions in the script `hw2_skeleton_char.py` in this part. After submitting `hw2_skeleton_char.py` to Gradescope and passing all the test cases for this part, you can get full score.\n",
    "\n",
    "## Part 1: Generation"
   ]
  },
  {
   "cell_type": "code",
   "execution_count": 1,
   "metadata": {},
   "outputs": [],
   "source": [
    "from hw3_skeleton_char import ngrams,NgramModel,create_ngram_model,NgramModelWithInterpolation\n",
    "import random"
   ]
  },
  {
   "cell_type": "markdown",
   "metadata": {},
   "source": [
    "Write a function `ngrams(n, text)` that produces a list of all n-grams of the specified size from the input text. Each n-gram should consist of a 2-element tuple `(context, char)`, where the context is itself an n-length string comprised of the $n$ characters preceding the current character. The sentence should be padded with $n$ ~ characters at the beginning (we've provided you with `start_pad(n)` for this purpose). If $n=0$, all contexts should be empty strings. You may assume that $n\\ge0$."
   ]
  },
  {
   "cell_type": "code",
   "execution_count": 2,
   "metadata": {},
   "outputs": [
    {
     "data": {
      "text/plain": [
       "[('~', 'a'), ('a', 'b'), ('b', 'c')]"
      ]
     },
     "execution_count": 2,
     "metadata": {},
     "output_type": "execute_result"
    }
   ],
   "source": [
    "ngrams(1, 'abc')"
   ]
  },
  {
   "cell_type": "markdown",
   "metadata": {},
   "source": [
    "We've also given you the function `create_ngram_model(model_class, path, n, k)` that will create and return an n-gram model trained on the entire file path provided. You should use it.\n",
    "\n",
    "You will build a simple n-gram language model that can be used to generate random text resembling a source document. Your use of external code should be limited to built-in Python modules, which excludes, for example, NumPy and NLTK.\n",
    "\n",
    "1. In the `NgramModel` class, write an initialization method `__init__(self, n, k)` which stores the order $n$ of the model and initializes any necessary internal variables. Then write a method `get_vocab(self)` that returns the vocab (this is the set of all characters used by this model).\n",
    "\n",
    "2. Write a method `update(self, text)` which computes the n-grams for the input sentence and updates the internal counts. Also write a method `prob(self, context, char)` which accepts an n-length string representing a context and a character, and returns the probability of that character occuring, given the preceding context. If you encounter a novel `context`, the probability of any given `char` should be $1/V$ where $V$ is the size of the vocab.\n",
    "\n",
    "3. Write a method `random_char(self, context)` which returns a random character according to the probability distribution determined by the given context. Specifically, let $V=\\langle v_1,v_2, \\cdots, v_n \\rangle$ be the vocab, sorted according to Python's natural lexicographic ordering, and let $0\\le r<1$ be a random number between 0 and 1. Your method should return the character $v_i$ such that\n",
    "\n",
    "    $$\\sum_{j=1}^{i-1} P(v_j\\ |\\ \\text{context}) \\le r < \\sum_{j=1}^i P(v_j\\ | \\ \\text{context}).$$\n",
    "\n",
    "    You should use a single call to the `random.random()` function to generate $r$."
   ]
  },
  {
   "cell_type": "code",
   "execution_count": 3,
   "metadata": {},
   "outputs": [],
   "source": [
    "m = NgramModel(1, 0)"
   ]
  },
  {
   "cell_type": "code",
   "execution_count": 4,
   "metadata": {},
   "outputs": [
    {
     "data": {
      "text/plain": [
       "{'a', 'b'}"
      ]
     },
     "execution_count": 4,
     "metadata": {},
     "output_type": "execute_result"
    }
   ],
   "source": [
    "m.update('abab')\n",
    "m.get_vocab()"
   ]
  },
  {
   "cell_type": "code",
   "execution_count": 5,
   "metadata": {},
   "outputs": [
    {
     "data": {
      "text/plain": [
       "{'a', 'b', 'c', 'd'}"
      ]
     },
     "execution_count": 5,
     "metadata": {},
     "output_type": "execute_result"
    }
   ],
   "source": [
    "m.update('abcd')\n",
    "m.get_vocab()"
   ]
  },
  {
   "cell_type": "code",
   "execution_count": 6,
   "metadata": {},
   "outputs": [
    {
     "data": {
      "text/plain": [
       "1.0"
      ]
     },
     "execution_count": 6,
     "metadata": {},
     "output_type": "execute_result"
    }
   ],
   "source": [
    "m.prob('a', 'b')"
   ]
  },
  {
   "cell_type": "code",
   "execution_count": 7,
   "metadata": {},
   "outputs": [
    {
     "data": {
      "text/plain": [
       "0.0"
      ]
     },
     "execution_count": 7,
     "metadata": {},
     "output_type": "execute_result"
    }
   ],
   "source": [
    "m.prob('~', 'c')"
   ]
  },
  {
   "cell_type": "code",
   "execution_count": 8,
   "metadata": {},
   "outputs": [
    {
     "data": {
      "text/plain": [
       "0.5"
      ]
     },
     "execution_count": 8,
     "metadata": {},
     "output_type": "execute_result"
    }
   ],
   "source": [
    "m.prob('b', 'c')"
   ]
  },
  {
   "cell_type": "code",
   "execution_count": 9,
   "metadata": {},
   "outputs": [],
   "source": [
    "m.update('abab')\n",
    "m.update('abcd')"
   ]
  },
  {
   "cell_type": "code",
   "execution_count": 10,
   "metadata": {},
   "outputs": [
    {
     "data": {
      "text/plain": [
       "['a',\n",
       " 'd',\n",
       " 'd',\n",
       " 'b',\n",
       " 'b',\n",
       " 'b',\n",
       " 'c',\n",
       " 'd',\n",
       " 'a',\n",
       " 'a',\n",
       " 'd',\n",
       " 'b',\n",
       " 'd',\n",
       " 'a',\n",
       " 'b',\n",
       " 'c',\n",
       " 'a',\n",
       " 'd',\n",
       " 'd',\n",
       " 'a',\n",
       " 'a',\n",
       " 'c',\n",
       " 'd',\n",
       " 'b',\n",
       " 'a']"
      ]
     },
     "execution_count": 10,
     "metadata": {},
     "output_type": "execute_result"
    }
   ],
   "source": [
    "random.seed(1)\n",
    "[m.random_char('') for i in range(25)]"
   ]
  },
  {
   "cell_type": "markdown",
   "metadata": {},
   "source": [
    "4. In the `NgramModel` class, write a method `random_text(self, length)` which returns a string of characters chosen at random using the `random_char(self, context)` method. Your starting context should always be $n$ ~ characters, and the context should be updated as characters are generated. If $n=0$, your context should always be the empty string. You should continue generating characters until you've produced the specified number of random characters, then return the full string."
   ]
  },
  {
   "cell_type": "code",
   "execution_count": 11,
   "metadata": {},
   "outputs": [
    {
     "data": {
      "text/plain": [
       "'abcdbabcdabababcdddabcdba'"
      ]
     },
     "execution_count": 11,
     "metadata": {},
     "output_type": "execute_result"
    }
   ],
   "source": [
    "m = NgramModel(1, 0)\n",
    "m.update('abab')\n",
    "m.update('abcd')\n",
    "random.seed(1)\n",
    "m.random_text(25)"
   ]
  },
  {
   "cell_type": "markdown",
   "metadata": {},
   "source": [
    "### Writing Shakespeare \n",
    "\n",
    "Now you can train a language model. First grab some text like [this corpus of Shakespeare](https://www.cc.gatech.edu/classes/AY2020/cs7650_spring/hw3/lm/shakespeare_input.zip).\n",
    "\n",
    "Try generating some Shakespeare with different order n-gram models. You should try running the following commands:"
   ]
  },
  {
   "cell_type": "code",
   "execution_count": 12,
   "metadata": {},
   "outputs": [
    {
     "data": {
      "text/plain": [
       "\"Fir, ace,\\nAs ofte, spritheiting execore's theaccow:\\nBiseer my leet\\nits, likere me heme,\\nBIROSTOLUS A sh'd Save sine in ase ot I sell dur'd he paptres, sil terwillseeck thall meou chus,\\nTomere? I a verer, butur mad tood, for frow'd, Bre unds a foorbut\""
      ]
     },
     "execution_count": 12,
     "metadata": {},
     "output_type": "execute_result"
    }
   ],
   "source": [
    "m = create_ngram_model(NgramModel, 'shakespeare_input.txt', 2)\n",
    "m.random_text(250)"
   ]
  },
  {
   "cell_type": "code",
   "execution_count": 13,
   "metadata": {},
   "outputs": [
    {
     "data": {
      "text/plain": [
       "\"First Cupid'st. Blow; not darust ver grospect Lond Timontain welver my thosed, the in that's the ear, I be thee Duke speak nown rageonation therer:\\nFare speach you wondire, whold by,\\nRebell\\nIn sore nightertainst eased with of hide.\\n\\nPRINCE HENRY:\\nWho\""
      ]
     },
     "execution_count": 13,
     "metadata": {},
     "output_type": "execute_result"
    }
   ],
   "source": [
    "m = create_ngram_model(NgramModel, 'shakespeare_input.txt', 3)\n",
    "m.random_text(250)"
   ]
  },
  {
   "cell_type": "code",
   "execution_count": 14,
   "metadata": {},
   "outputs": [
    {
     "data": {
      "text/plain": [
       "\"First Apollows-monstands. The foundly and highness' friend.\\n\\nCOSTARD:\\nThe would first Guard:\\nJoin while he days I true:\\nI have the reputation, good:\\nBut a tradian a prithers.\\n\\nTOUCHSTONE:\\nSoft,\\nthough they lief talend mud indeed, double your treason \""
      ]
     },
     "execution_count": 14,
     "metadata": {},
     "output_type": "execute_result"
    }
   ],
   "source": [
    "m = create_ngram_model(NgramModel, 'shakespeare_input.txt', 4)\n",
    "m.random_text(250)"
   ]
  },
  {
   "cell_type": "markdown",
   "metadata": {},
   "source": [
    "What do you think? Is it as good as [1000 monkeys working at 1000 typewriters](https://www.youtube.com/watch?v=no_elVGGgW8)?\n",
    "\n",
    "After generating a bunch of short passages, do you notice anything? *They all start with F!* In fact, after we hit a certain order, the first word is always *First*?  Why is that? Is the model trying to be clever? First, generate the word *First*. Explain what is going on in your writeup."
   ]
  },
  {
   "cell_type": "markdown",
   "metadata": {},
   "source": [
    "## Part 2: Perplexity, Smoothing, and Interpolation\n",
    "\n",
    "In this part of the assignment, you'll adapt your code in order to implement several of the  techniques described in [Section 3 of the Jurafsky and Martin textbook](https://web.stanford.edu/~jurafsky/slp3/3.pdf)."
   ]
  },
  {
   "cell_type": "markdown",
   "metadata": {},
   "source": [
    "### Perplexity\n",
    "\n",
    "How do we know whether a language model is good? There are two basic approaches:\n",
    "1. Task-based evaluation (also known as extrinsic evaluation), where we use the language model as part of some other task, like automatic speech recognition, or spelling correcktion, or an OCR system that tries to covert a professor's messy handwriting into text.\n",
    "2. Intrinsic evaluation. Intrinsic evaluation tries to directly evalute the goodness of the language model by seeing how well the probability distributions that it estimates are able to explain some previously unseen test set.\n",
    "\n",
    "Here's what the textbook says:\n",
    "\n",
    "> For an intrinsic evaluation of a language model we need a test set. As with many of the statistical models in our field, the probabilities of an N-gram model come from the corpus it is trained on, the training set or training corpus. We can then measure the quality of an N-gram model by its performance on some unseen data called the test set or test corpus. We will also sometimes call test sets and other datasets that are not in our training sets held out corpora because we hold them out from the training data.\n",
    "\n",
    "> So if we are given a corpus of text and want to compare two different N-gram models, we divide the data into training and test sets, train the parameters of both models on the training set, and then compare how well the two trained models fit the test set.\n",
    "\n",
    "> But what does it mean to \"fit the test set\"? The answer is simple: whichever model assigns a higher probability to the test set is a better model.\n",
    "\n",
    "We'll implement the most common method for intrinsic metric of language models: *perplexity*.  The perplexity of a language model on a test set is the inverse probability of the test set, normalized by the number of characters. For a test set $$W = w_1 w_2 ... w_N$$:\n",
    "\n",
    "$$Perplexity(W) = P(w_1 w_2 ... w_N)^{-\\frac{1}{N}}$$\n",
    "\n",
    "$$ = \\sqrt[N]{\\frac{1}{P(w_1 w_2 ... w_N)}}$$\n",
    "\n",
    "$$ = \\sqrt[N]{\\prod_{i=1}^{N}{\\frac{1}{P(w_i \\mid w_1 ... w_{i-1})}}}$$\n",
    "\n",
    "Now implement the `perplexity(self, text)` function in `NgramModel`. A couple of things to keep in mind:\n",
    "1. Numeric underflow is going to be a problem, so consider using logs.\n",
    "2. Perplexity is undefined if the language model assigns any zero probabilities to the test set. In that case your code should return positive infinity - `float('inf')`.\n",
    "3. On your unsmoothed models, you'll definitely get some zero probabilities for the test set. To test you code, you should try computing perplexity on the training set, and you should compute perplexity for your language models that use smoothing and interpolation.\n",
    "\n",
    "We provide you [dev data for character-level and word-level langauge models](https://www.cc.gatech.edu/classes/AY2020/cs7650_spring/hw3/lm/shakespeare_sonnets.zip).\n"
   ]
  },
  {
   "cell_type": "code",
   "execution_count": 15,
   "metadata": {},
   "outputs": [
    {
     "data": {
      "text/plain": [
       "1.189207115002721"
      ]
     },
     "execution_count": 15,
     "metadata": {},
     "output_type": "execute_result"
    }
   ],
   "source": [
    "m = NgramModel(1, 0)\n",
    "m.update('abab')\n",
    "m.update('abcd')\n",
    "m.perplexity('abcd')"
   ]
  },
  {
   "cell_type": "code",
   "execution_count": 16,
   "metadata": {},
   "outputs": [
    {
     "data": {
      "text/plain": [
       "inf"
      ]
     },
     "execution_count": 16,
     "metadata": {},
     "output_type": "execute_result"
    }
   ],
   "source": [
    "m.perplexity('abca')"
   ]
  },
  {
   "cell_type": "code",
   "execution_count": 17,
   "metadata": {},
   "outputs": [
    {
     "name": "stdout",
     "output_type": "stream",
     "text": [
      "inf\n"
     ]
    }
   ],
   "source": [
    "m = create_ngram_model(NgramModel, 'shakespeare_input.txt', 2, k=0)\n",
    "with open('shakespeare_sonnets.txt', encoding='utf-8', errors='ignore') as f:\n",
    "    print(m.perplexity(f.read()))"
   ]
  },
  {
   "cell_type": "markdown",
   "metadata": {},
   "source": [
    "Note: you may want to create a smoothed language model before calculating perplexity on real data."
   ]
  },
  {
   "cell_type": "markdown",
   "metadata": {},
   "source": [
    "### Smoothing\n",
    "\n",
    "Laplace Smoothing is described in section 4.4.1. Laplace smoothing adds one to each count (hence its alternate name *add-one smoothing*). Since there are *V* characters in the vocabulary and each one was incremented, we also need to adjust the denominator to take into account the extra V observations.\n",
    "\n",
    "$$P_{Laplace}(w_i) = \\frac{count_i + 1}{N+|V|}$$\n",
    "\n",
    "A variant of Laplace smoothing is called *Add-k smoothing* or *Add-epsilon smoothing*. This is described in section Add-k 4.4.2. Update your `NgramModel` code from Part 1 to implement add-k smoothing."
   ]
  },
  {
   "cell_type": "code",
   "execution_count": 18,
   "metadata": {},
   "outputs": [
    {
     "data": {
      "text/plain": [
       "0.14285714285714285"
      ]
     },
     "execution_count": 18,
     "metadata": {},
     "output_type": "execute_result"
    }
   ],
   "source": [
    "m = NgramModel(1, 1)\n",
    "m.update('abab')\n",
    "m.update('abcd')\n",
    "m.prob('a', 'a')"
   ]
  },
  {
   "cell_type": "code",
   "execution_count": 19,
   "metadata": {},
   "outputs": [
    {
     "data": {
      "text/plain": [
       "2.691781635477648"
      ]
     },
     "execution_count": 19,
     "metadata": {},
     "output_type": "execute_result"
    }
   ],
   "source": [
    "m.perplexity('abca')"
   ]
  },
  {
   "cell_type": "code",
   "execution_count": 20,
   "metadata": {},
   "outputs": [
    {
     "name": "stdout",
     "output_type": "stream",
     "text": [
      "67\n",
      "7.996946415762477\n"
     ]
    }
   ],
   "source": [
    "m = create_ngram_model(NgramModel, 'shakespeare_input.txt', 2, k=0.1)\n",
    "print(len(m.get_vocab()))\n",
    "with open('shakespeare_sonnets.txt', encoding='utf-8', errors='ignore') as f:\n",
    "    print(m.perplexity(f.read()))"
   ]
  },
  {
   "cell_type": "markdown",
   "metadata": {},
   "source": [
    "### Interpolation\n",
    "\n",
    "The idea of interpolation is to calculate the higher order n-gram probabilities also combining the probabilities for lower-order n-gram models. Like smoothing, this helps us avoid the problem of zeros if we haven't observed the longer sequence in our training data. Here's the math:\n",
    "\n",
    "$$P_{interpolation}(w_i|w_{i−2} w_{i−1}) = \\lambda_1 P(w_i|w_{i−2} w_{i−1}) + \\lambda_2 P(w_i|w_{i−1}) + \\lambda_3 P(w_i)$$\n",
    "\n",
    "where $\\lambda_1 + \\lambda_2 + \\lambda_3 = 1$.\n",
    "\n",
    "We've provided you with another class definition `NgramModelWithInterpolation` that extends `NgramModel` for you to implement interpolation. If you've written your code robustly, you should only need to override the `get_vocab(self)`, `update(self, text)`, and `prob(self, context, char)` methods, along with the initializer.\n",
    "\n",
    "The value of $n$ passed into `__init__(self, n, k)` is the highest order n-gram to be considered by the model (e.g. $n=2$ will consider 3 different length n-grams). Add-k smoothing should take place only when calculating the individual order n-gram probabilities, not when calculating the overall interpolation probability.\n",
    "\n",
    "By default set the lambdas to be equal weights, but you should also write a helper function that can be called to overwrite this default. Setting the lambdas in the helper function can either be done heuristically or by using a development set, but in the example code below, we've used the default."
   ]
  },
  {
   "cell_type": "code",
   "execution_count": 21,
   "metadata": {},
   "outputs": [
    {
     "data": {
      "text/plain": [
       "0.1875"
      ]
     },
     "execution_count": 21,
     "metadata": {},
     "output_type": "execute_result"
    }
   ],
   "source": [
    "m = NgramModelWithInterpolation(1, 0)\n",
    "m.update('abab')\n",
    "m.update('abcd')\n",
    "m.prob('a', 'a')"
   ]
  },
  {
   "cell_type": "code",
   "execution_count": 22,
   "metadata": {},
   "outputs": [
    {
     "data": {
      "text/plain": [
       "2.4513246099214725"
      ]
     },
     "execution_count": 22,
     "metadata": {},
     "output_type": "execute_result"
    }
   ],
   "source": [
    "m.perplexity('abca')"
   ]
  },
  {
   "cell_type": "code",
   "execution_count": 23,
   "metadata": {},
   "outputs": [
    {
     "data": {
      "text/plain": [
       "0.46825396825396826"
      ]
     },
     "execution_count": 23,
     "metadata": {},
     "output_type": "execute_result"
    }
   ],
   "source": [
    "m = NgramModelWithInterpolation(2, 1)\n",
    "m.update('abab')\n",
    "m.update('abcd')\n",
    "m.prob('~a', 'b')"
   ]
  },
  {
   "cell_type": "code",
   "execution_count": 24,
   "metadata": {},
   "outputs": [
    {
     "data": {
      "text/plain": [
       "2.9003863011784152"
      ]
     },
     "execution_count": 24,
     "metadata": {},
     "output_type": "execute_result"
    }
   ],
   "source": [
    "m.perplexity('abca')"
   ]
  },
  {
   "cell_type": "code",
   "execution_count": 25,
   "metadata": {},
   "outputs": [
    {
     "name": "stdout",
     "output_type": "stream",
     "text": [
      "67\n",
      "10.288650009339714\n"
     ]
    }
   ],
   "source": [
    "m = create_ngram_model(NgramModelWithInterpolation, 'shakespeare_input.txt', 2, k=0.1)\n",
    "print(len(m.get_vocab()))\n",
    "with open('shakespeare_sonnets.txt', encoding='utf-8', errors='ignore') as f:\n",
    "    print(m.perplexity(f.read()))"
   ]
  },
  {
   "cell_type": "markdown",
   "metadata": {},
   "source": [
    "In your report, experiment with a few different lambdas and values of k and discuss their effects."
   ]
  },
  {
   "cell_type": "markdown",
   "metadata": {},
   "source": [
    "# Word-level N-gram Language Models [Required for CS 7650. Bonus for CS 4650] [10 pts]\n",
    "\n",
    "You should complete functions in the script `hw2_skeleton_word.py` in this part. After submitting `hw2_skeleton_word.py` to Gradescope and passing all the test cases for this part, you can get full score. Instructions are similar to the instructions above. It is convenient to first use `text.strip().split()` to convert a string of word sequence to a list of words. In some functions, we provide `text.strip().split()`. You can use it optionally. \n",
    "\n",
    "Besides the corpus above, we also provide you [training data for word-level langauge models](https://www.cc.gatech.edu/classes/AY2020/cs7650_spring/hw3/lm/train_e.zip) and [dev data for word-level langauge models](https://www.cc.gatech.edu/classes/AY2020/cs7650_spring/hw3/lm/val_e.zip), in which each sentence has been processed with word tokenizer and `[EOS]` token has been appended to the end of each sentences.  `[EOS]` can be regarded as the sentence boundary when generating a paragraph or evaluating the perplexity of a paragraph.\n",
    "\n",
    "\n",
    "## Part 1: Generation"
   ]
  },
  {
   "cell_type": "code",
   "execution_count": 26,
   "metadata": {},
   "outputs": [],
   "source": [
    "from hw3_skeleton_word import ngrams,NgramModel,create_ngram_model,NgramModelWithInterpolation\n",
    "import random"
   ]
  },
  {
   "cell_type": "code",
   "execution_count": 27,
   "metadata": {},
   "outputs": [
    {
     "data": {
      "text/plain": [
       "[('~', 'I'),\n",
       " ('I', 'love'),\n",
       " ('love', 'Natural'),\n",
       " ('Natural', 'Language'),\n",
       " ('Language', 'Processing')]"
      ]
     },
     "execution_count": 27,
     "metadata": {},
     "output_type": "execute_result"
    }
   ],
   "source": [
    "ngrams(1, 'I love Natural Language Processing')"
   ]
  },
  {
   "cell_type": "code",
   "execution_count": 28,
   "metadata": {},
   "outputs": [],
   "source": [
    "m = NgramModel(1, 0)"
   ]
  },
  {
   "cell_type": "code",
   "execution_count": 29,
   "metadata": {},
   "outputs": [
    {
     "data": {
      "text/plain": [
       "{'I', 'language', 'love', 'natural', 'processing'}"
      ]
     },
     "execution_count": 29,
     "metadata": {},
     "output_type": "execute_result"
    }
   ],
   "source": [
    "m.update('I love natural language processing')\n",
    "m.get_vocab()"
   ]
  },
  {
   "cell_type": "code",
   "execution_count": 30,
   "metadata": {},
   "outputs": [
    {
     "data": {
      "text/plain": [
       "{'I', 'language', 'learning', 'love', 'machine', 'natural', 'processing'}"
      ]
     },
     "execution_count": 30,
     "metadata": {},
     "output_type": "execute_result"
    }
   ],
   "source": [
    "m.update('I love machine learning')\n",
    "m.get_vocab()"
   ]
  },
  {
   "cell_type": "code",
   "execution_count": 31,
   "metadata": {},
   "outputs": [
    {
     "data": {
      "text/plain": [
       "1.0"
      ]
     },
     "execution_count": 31,
     "metadata": {},
     "output_type": "execute_result"
    }
   ],
   "source": [
    "m.prob('I', 'love')"
   ]
  },
  {
   "cell_type": "code",
   "execution_count": 32,
   "metadata": {},
   "outputs": [
    {
     "data": {
      "text/plain": [
       "0.0"
      ]
     },
     "execution_count": 32,
     "metadata": {},
     "output_type": "execute_result"
    }
   ],
   "source": [
    "m.prob('~', 'You')"
   ]
  },
  {
   "cell_type": "code",
   "execution_count": 33,
   "metadata": {},
   "outputs": [
    {
     "data": {
      "text/plain": [
       "0.5"
      ]
     },
     "execution_count": 33,
     "metadata": {},
     "output_type": "execute_result"
    }
   ],
   "source": [
    "m.prob('love', 'natural')"
   ]
  },
  {
   "cell_type": "code",
   "execution_count": 34,
   "metadata": {},
   "outputs": [],
   "source": [
    "m.update('You love computer vision')\n",
    "m.update('I was late today')"
   ]
  },
  {
   "cell_type": "code",
   "execution_count": 35,
   "metadata": {},
   "outputs": [
    {
     "data": {
      "text/plain": [
       "['I',\n",
       " 'You',\n",
       " 'You',\n",
       " 'I',\n",
       " 'I',\n",
       " 'I',\n",
       " 'I',\n",
       " 'You',\n",
       " 'I',\n",
       " 'I',\n",
       " 'You',\n",
       " 'I',\n",
       " 'You',\n",
       " 'I',\n",
       " 'I',\n",
       " 'I',\n",
       " 'I',\n",
       " 'You',\n",
       " 'You',\n",
       " 'I',\n",
       " 'I',\n",
       " 'I',\n",
       " 'You',\n",
       " 'I',\n",
       " 'I']"
      ]
     },
     "execution_count": 35,
     "metadata": {},
     "output_type": "execute_result"
    }
   ],
   "source": [
    "random.seed(1)\n",
    "[m.random_word('~') for i in range(25)]"
   ]
  },
  {
   "cell_type": "code",
   "execution_count": 36,
   "metadata": {},
   "outputs": [
    {
     "data": {
      "text/plain": [
       "'We are welcome You are friends friends friends We are welcome are welcome We are welcome You are welcome We are welcome welcome You are'"
      ]
     },
     "execution_count": 36,
     "metadata": {},
     "output_type": "execute_result"
    }
   ],
   "source": [
    "m = NgramModel(1, 0)\n",
    "m.update('You are welcome')\n",
    "m.update('We are friends')\n",
    "random.seed(1)\n",
    "m.random_text(25)"
   ]
  },
  {
   "cell_type": "code",
   "execution_count": 37,
   "metadata": {},
   "outputs": [
    {
     "data": {
      "text/plain": [
       "\"In the apology . [E0S] Everyone in Anchorage . [E0S] A sports media there are ways to create a program that the doors to strangers , so we take can gravitate around the world . [E0S] Of the hundreds of multimillion-dollar contracts to put it in 1951 , his wife [E0S] He and close to the ground swishing at a top player for `` big weapons '' to terrified onlookers . [E0S] Mr Lapsley said . [E0S] Our coaching and strategy , has had on the ground , and afterwards on iPlayer [E0S] The restaurant Pellegrini owns was damaged , Nicola Sturgeon has announced plans to be accepted by Cosla said the firm , even a fuzzy mess [E0S] Several top industry figures have surged , lifting and tightening border controls in its defense of the giant carp 's league bye . [E0S] After appearing in the beck in Glenridding this morning . [E0S] 'We want Olive to be linked to the wealthiest nation per capita basis , the district , 38 , cancelling a cabinet minister told MPs . [E0S] `` This is a product that will contain it inside the victim , now 20 , when World War II before winding up in the last year that Italy had breached his Fourth-Amendment rights . [E0S] I mean it 's motor - particularly if young people who have been severely damaged [E0S] The Duchess , who also happens to be a certified EMT -- helped pull Brett Kyle was\""
      ]
     },
     "execution_count": 37,
     "metadata": {},
     "output_type": "execute_result"
    }
   ],
   "source": [
    "m = create_ngram_model(NgramModel, 'train_e.txt', 2)\n",
    "m.random_text(250)"
   ]
  },
  {
   "cell_type": "code",
   "execution_count": 38,
   "metadata": {},
   "outputs": [
    {
     "data": {
      "text/plain": [
       "\"In the immediate term , though , with Horlin-Smith beating the brothers and uploading them to YouTube . [E0S] Yet many researchers show us that this `` most virtuous and wise '' son of the Republican candidates are all promising they would do otherwise . [E0S] Another couple celebrating graduation would certainly make a memorable couple if their faces were true to life [E0S] The porcelain girl has been missing from north London said she did not show up at the mercy of shysters in places you do n't want to hear from the president , `` Do I not hate those who hate the West and its allies are inciting proliferation and giving moral and legal cover to the likes of Donald Trump . [E0S] With a record jackpot on offer , `` they would be reluctant to negotiate anything major with a lame duck could shovel a lot of talk about the next iPhone is released , according to the criminal complaint said . [E0S] The scoop in this image taken on June 23 . [E0S] Here 's what you 're having children '' [E0S] I think ( the Challenger crew were killed when an Indonesia AirAsia plane en route to the scene which was littered with posters and leaflets carrying images of the same name three years ago , he says , emphasis on the D. He adopts a deep , painful truth about my experience , is measured . [E0S] Prof Verplanken added : 'Timing environmental\""
      ]
     },
     "execution_count": 38,
     "metadata": {},
     "output_type": "execute_result"
    }
   ],
   "source": [
    "m = create_ngram_model(NgramModel, 'train_e.txt', 3)\n",
    "m.random_text(250)"
   ]
  },
  {
   "cell_type": "code",
   "execution_count": 39,
   "metadata": {},
   "outputs": [
    {
     "data": {
      "text/plain": [
       "\"In the immediate term , though , that lurk in the pitch , particularly against the new ball . [E0S] Oscar nominee Ellen Page ( `` Juno '' ) can be seen warning that the West will eventually turn on its Muslim population , before Trump is heard calling for the ban [E0S] The front-runner is Democrat Joaquin Arambula , an emergency room physician whose father once was an assemblyman . [E0S] Popeye is a popular figure with the players and apparently he and his wife Kim do not know the sex of their baby but have revealed that it is due in July . [E0S] And what 's the number one life lesson you want people , when they sing , they do n't care how much noise they make . [E0S] Now Playing : 'GMA ' Ultimate Tailgating Challenge ' : Lara 's Nittany Nachos [E0S] Suu Kyi 's party prepares to take charge of Myanmar parliament [E0S] The Nerang 'Loch Ness monster '' snake.Source : Supplied [E0S] A soldier from India 's counter-terrorism force , the National Security Guard ( NSG ) led the fight against the militants , according to top security officials . [E0S] Apple has plenty of repeat business - once hooked in , data shows people are far more likely to endure . [E0S] The MV Tatoosh , a 300ft yacht owned by the billionaire Allen , ripped up 14,000 square feet of coral reef in the West Bay replenishment zone , according\""
      ]
     },
     "execution_count": 39,
     "metadata": {},
     "output_type": "execute_result"
    }
   ],
   "source": [
    "m = create_ngram_model(NgramModel, 'train_e.txt', 4)\n",
    "m.random_text(250)"
   ]
  },
  {
   "cell_type": "markdown",
   "metadata": {},
   "source": [
    "Do you think these outputs are more reasonable than character-level language models?\n",
    "\n",
    "After generating a bunch of short passages, do you notice anything? *They all start with In!*  Why is that? Is the model trying to be clever? First, generate the word *In*. Explain what is going on in your writeup."
   ]
  },
  {
   "cell_type": "markdown",
   "metadata": {},
   "source": [
    "## Part 2: Perplexity, Smoothing, and Interpolation"
   ]
  },
  {
   "cell_type": "markdown",
   "metadata": {},
   "source": [
    "### Perplexity"
   ]
  },
  {
   "cell_type": "code",
   "execution_count": 40,
   "metadata": {},
   "outputs": [
    {
     "data": {
      "text/plain": [
       "1.4142135623730951"
      ]
     },
     "execution_count": 40,
     "metadata": {},
     "output_type": "execute_result"
    }
   ],
   "source": [
    "m = NgramModel(1, 0)\n",
    "m.update('I love natural language processing')\n",
    "m.update('You love machine learning')\n",
    "m.perplexity('I love machine learning')"
   ]
  },
  {
   "cell_type": "code",
   "execution_count": 41,
   "metadata": {},
   "outputs": [
    {
     "data": {
      "text/plain": [
       "inf"
      ]
     },
     "execution_count": 41,
     "metadata": {},
     "output_type": "execute_result"
    }
   ],
   "source": [
    "m.perplexity('I love python')"
   ]
  },
  {
   "cell_type": "code",
   "execution_count": 42,
   "metadata": {},
   "outputs": [
    {
     "name": "stdout",
     "output_type": "stream",
     "text": [
      "inf\n"
     ]
    }
   ],
   "source": [
    "m = create_ngram_model(NgramModel, 'train_e.txt', 2, k=0)\n",
    "with open('val_e.txt', encoding='utf-8', errors='ignore') as f:\n",
    "    print(m.perplexity(f.read()))"
   ]
  },
  {
   "cell_type": "markdown",
   "metadata": {},
   "source": [
    "### Smoothing"
   ]
  },
  {
   "cell_type": "code",
   "execution_count": 43,
   "metadata": {},
   "outputs": [
    {
     "data": {
      "text/plain": [
       "4.743416490252569"
      ]
     },
     "execution_count": 43,
     "metadata": {},
     "output_type": "execute_result"
    }
   ],
   "source": [
    "m = NgramModel(1, 1)\n",
    "m.update('I love natural language processing')\n",
    "m.update('You love machine learning')\n",
    "m.perplexity('I love machine learning')"
   ]
  },
  {
   "cell_type": "code",
   "execution_count": 44,
   "metadata": {},
   "outputs": [
    {
     "data": {
      "text/plain": [
       "6.0822019955734"
      ]
     },
     "execution_count": 44,
     "metadata": {},
     "output_type": "execute_result"
    }
   ],
   "source": [
    "m.perplexity('I love python')"
   ]
  },
  {
   "cell_type": "code",
   "execution_count": 45,
   "metadata": {},
   "outputs": [
    {
     "name": "stdout",
     "output_type": "stream",
     "text": [
      "62983\n",
      "54690.856311571835\n"
     ]
    }
   ],
   "source": [
    "m = create_ngram_model(NgramModel, 'shakespeare_input.txt', 2, k=0.1)\n",
    "print(len(m.get_vocab()))\n",
    "with open('shakespeare_sonnets.txt', encoding='utf-8', errors='ignore') as f:\n",
    "    print(m.perplexity(f.read()))"
   ]
  },
  {
   "cell_type": "code",
   "execution_count": 46,
   "metadata": {},
   "outputs": [
    {
     "name": "stdout",
     "output_type": "stream",
     "text": [
      "129555\n",
      "30926.231817411837\n"
     ]
    }
   ],
   "source": [
    "m = create_ngram_model(NgramModel, 'train_e.txt', 2, k=0.1)\n",
    "print(len(m.get_vocab()))\n",
    "with open('val_e.txt', encoding='utf-8', errors='ignore') as f:\n",
    "    print(m.perplexity(f.read()))"
   ]
  },
  {
   "cell_type": "markdown",
   "metadata": {},
   "source": [
    "### Interpolation"
   ]
  },
  {
   "cell_type": "code",
   "execution_count": 47,
   "metadata": {},
   "outputs": [
    {
     "data": {
      "text/plain": [
       "0.3055555555555556"
      ]
     },
     "execution_count": 47,
     "metadata": {},
     "output_type": "execute_result"
    }
   ],
   "source": [
    "m = NgramModelWithInterpolation(1, 0)\n",
    "m.update('I love natural language processing')\n",
    "m.update('You love machine learning')\n",
    "m.prob('love','machine')"
   ]
  },
  {
   "cell_type": "code",
   "execution_count": 48,
   "metadata": {},
   "outputs": [
    {
     "data": {
      "text/plain": [
       "2.36997076666118"
      ]
     },
     "execution_count": 48,
     "metadata": {},
     "output_type": "execute_result"
    }
   ],
   "source": [
    "m.perplexity('I love machine learning')"
   ]
  },
  {
   "cell_type": "code",
   "execution_count": 49,
   "metadata": {},
   "outputs": [
    {
     "data": {
      "text/plain": [
       "0.14291938997821352"
      ]
     },
     "execution_count": 49,
     "metadata": {},
     "output_type": "execute_result"
    }
   ],
   "source": [
    "m = NgramModelWithInterpolation(2, 1)\n",
    "m.update('I love natural language processing')\n",
    "m.update('You love machine learning')\n",
    "m.prob('~ I love','machine')"
   ]
  },
  {
   "cell_type": "code",
   "execution_count": 50,
   "metadata": {},
   "outputs": [
    {
     "data": {
      "text/plain": [
       "5.686563801534902"
      ]
     },
     "execution_count": 50,
     "metadata": {},
     "output_type": "execute_result"
    }
   ],
   "source": [
    "m.perplexity('I love machine learning')"
   ]
  },
  {
   "cell_type": "code",
   "execution_count": 51,
   "metadata": {},
   "outputs": [
    {
     "name": "stdout",
     "output_type": "stream",
     "text": [
      "62983\n",
      "5384.071922529638\n"
     ]
    }
   ],
   "source": [
    "m = create_ngram_model(NgramModelWithInterpolation, 'shakespeare_input.txt', 2, k=0.1)\n",
    "print(len(m.get_vocab()))\n",
    "with open('shakespeare_sonnets.txt', encoding='utf-8', errors='ignore') as f:\n",
    "    print(m.perplexity(f.read()))"
   ]
  },
  {
   "cell_type": "markdown",
   "metadata": {},
   "source": [
    "Running the following code could take about 10 minutes. This should be finished within 15 minutes."
   ]
  },
  {
   "cell_type": "code",
   "execution_count": 52,
   "metadata": {},
   "outputs": [
    {
     "name": "stdout",
     "output_type": "stream",
     "text": [
      "129555\n",
      "1858.966125727671\n"
     ]
    }
   ],
   "source": [
    "m = create_ngram_model(NgramModelWithInterpolation, 'train_e.txt', 2, k=0.1)\n",
    "print(len(m.get_vocab()))\n",
    "with open('val_e.txt', encoding='utf-8', errors='ignore') as f:\n",
    "    print(m.perplexity(f.read()))"
   ]
  },
  {
   "cell_type": "markdown",
   "metadata": {},
   "source": [
    "Please compare the perplexity of `shakespeare_sonnets.txt` when using word-level language model and character-level language model. In your writeup, explain why they are different ."
   ]
  },
  {
   "cell_type": "markdown",
   "metadata": {},
   "source": [
    "### Aknowledgement:\n",
    "\n",
    "This assigment is adapted from [Chris Callison-Burch's course CIS 530 - Computational Linguistics](http://computational-linguistics-class.org/index.html)."
   ]
  },
  {
   "cell_type": "code",
   "execution_count": null,
   "metadata": {},
   "outputs": [],
   "source": []
  }
 ],
 "metadata": {
  "kernelspec": {
   "display_name": "Python 3",
   "language": "python",
   "name": "python3"
  },
  "language_info": {
   "codemirror_mode": {
    "name": "ipython",
    "version": 3
   },
   "file_extension": ".py",
   "mimetype": "text/x-python",
   "name": "python",
   "nbconvert_exporter": "python",
   "pygments_lexer": "ipython3",
   "version": "3.6.4"
  }
 },
 "nbformat": 4,
 "nbformat_minor": 2
}
